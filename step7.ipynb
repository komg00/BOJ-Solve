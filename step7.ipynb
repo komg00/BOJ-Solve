{
 "cells": [
  {
   "cell_type": "markdown",
   "metadata": {},
   "source": [
    "## 2차원 배열"
   ]
  },
  {
   "cell_type": "markdown",
   "metadata": {},
   "source": [
    "### 2738. 행렬 덧셈"
   ]
  },
  {
   "cell_type": "code",
   "execution_count": 36,
   "metadata": {
    "scrolled": false
   },
   "outputs": [
    {
     "name": "stdout",
     "output_type": "stream",
     "text": [
      "3 3\n",
      "1 1 1\n",
      "2 2 2\n",
      "0 1 0\n",
      "3 3 3\n",
      "4 4 4\n",
      "5 5 100\n",
      "4 4 4 \n",
      "6 6 6 \n",
      "5 6 100 \n"
     ]
    }
   ],
   "source": [
    "n , m = map(int, input().split())\n",
    "vec = []\n",
    "vec1 = [list(map(int, input().split())) for _ in range(n)]\n",
    "vec2 = [list(map(int, input().split())) for _ in range(n)]\n",
    "for i in range(n):\n",
    "    for j in range(m):\n",
    "        print(vec1[i][j] + vec2[i][j], end=' ')\n",
    "    print()"
   ]
  },
  {
   "cell_type": "markdown",
   "metadata": {},
   "source": [
    "### 2566. 최댓값"
   ]
  },
  {
   "cell_type": "markdown",
   "metadata": {},
   "source": [
    "row, col 초기화 안 하니까 런타임 에러 생겼다 웬만하면 초기화 꼭 하기"
   ]
  },
  {
   "cell_type": "code",
   "execution_count": null,
   "metadata": {},
   "outputs": [],
   "source": [
    "numbers = [list(map(int, input().split())) for _ in range(9)]\n",
    "max_num = 0\n",
    "row = 0\n",
    "col = 0\n",
    "for i in range(9):\n",
    "    for j in range(9):\n",
    "        if numbers[i][j] > max_num:\n",
    "            max_num = numbers[i][j]\n",
    "            row = i+1\n",
    "            col = j+1\n",
    "print(max_num)\n",
    "print(row, col)"
   ]
  },
  {
   "cell_type": "code",
   "execution_count": null,
   "metadata": {},
   "outputs": [],
   "source": []
  }
 ],
 "metadata": {
  "kernelspec": {
   "display_name": "Python 3",
   "language": "python",
   "name": "python3"
  },
  "language_info": {
   "codemirror_mode": {
    "name": "ipython",
    "version": 3
   },
   "file_extension": ".py",
   "mimetype": "text/x-python",
   "name": "python",
   "nbconvert_exporter": "python",
   "pygments_lexer": "ipython3",
   "version": "3.8.5"
  }
 },
 "nbformat": 4,
 "nbformat_minor": 4
}
