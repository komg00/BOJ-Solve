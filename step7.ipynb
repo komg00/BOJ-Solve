{
 "cells": [
  {
   "cell_type": "markdown",
   "metadata": {},
   "source": [
    "## 2차원 배열"
   ]
  },
  {
   "cell_type": "markdown",
   "metadata": {},
   "source": [
    "### 2738. 행렬 덧셈"
   ]
  },
  {
   "cell_type": "code",
   "execution_count": 36,
   "metadata": {
    "scrolled": false
   },
   "outputs": [
    {
     "name": "stdout",
     "output_type": "stream",
     "text": [
      "3 3\n",
      "1 1 1\n",
      "2 2 2\n",
      "0 1 0\n",
      "3 3 3\n",
      "4 4 4\n",
      "5 5 100\n",
      "4 4 4 \n",
      "6 6 6 \n",
      "5 6 100 \n"
     ]
    }
   ],
   "source": [
    "n , m = map(int, input().split())\n",
    "vec = []\n",
    "vec1 = [list(map(int, input().split())) for _ in range(n)]\n",
    "vec2 = [list(map(int, input().split())) for _ in range(n)]\n",
    "for i in range(n):\n",
    "    for j in range(m):\n",
    "        print(vec1[i][j] + vec2[i][j], end=' ')\n",
    "    print()"
   ]
  },
  {
   "cell_type": "markdown",
   "metadata": {},
   "source": [
    "### 2566. 최댓값"
   ]
  },
  {
   "cell_type": "markdown",
   "metadata": {},
   "source": [
    "row, col 초기화 안 하니까 런타임 에러 생겼다 웬만하면 초기화 꼭 하기"
   ]
  },
  {
   "cell_type": "code",
   "execution_count": 42,
   "metadata": {},
   "outputs": [
    {
     "name": "stdout",
     "output_type": "stream",
     "text": [
      "3 23 85 34 17 74 25 52 65\n",
      "10 7 39 42 88 52 14 72 63\n",
      "87 42 18 78 53 45 18 84 53\n",
      "34 28 64 85 12 16 75 36 55\n",
      "21 77 45 35 28 75 90 76 1\n",
      "25 87 65 15 28 11 37 28 74\n",
      "65 27 75 41 7 89 78 64 39\n",
      "47 47 70 45 23 65 3 41 44\n",
      "87 13 82 38 31 12 29 29 80\n",
      "90\n",
      "5 7\n"
     ]
    }
   ],
   "source": [
    "numbers = [list(map(int, input().split())) for _ in range(9)]\n",
    "max_num = 0\n",
    "row = 0\n",
    "col = 0\n",
    "for i in range(9):\n",
    "    for j in range(9):\n",
    "        if numbers[i][j] > max_num:\n",
    "            max_num = numbers[i][j]\n",
    "            row = i+1\n",
    "            col = j+1\n",
    "print(max_num)\n",
    "print(row, col)"
   ]
  },
  {
   "cell_type": "markdown",
   "metadata": {},
   "source": [
    "### 10798. 세로읽기"
   ]
  },
  {
   "cell_type": "markdown",
   "metadata": {},
   "source": [
    "max len 구하는게 핵심이다"
   ]
  },
  {
   "cell_type": "code",
   "execution_count": 32,
   "metadata": {},
   "outputs": [
    {
     "name": "stdout",
     "output_type": "stream",
     "text": [
      "AABCDD\n",
      "afzz\n",
      "09121\n",
      "a8EWg6\n",
      "P5h3kx\n",
      "Aa0aPAf985Bz1EhCz2W3D1gkD6x\n"
     ]
    }
   ],
   "source": [
    "words_list = []\n",
    "str = ''\n",
    "length = []\n",
    "for _ in range(5):\n",
    "    word = list(input())\n",
    "    words_list.append(word)\n",
    "    length.append(len(word))\n",
    "for i in range(max(length)):\n",
    "    for j in range(5):\n",
    "        if i < length[j]:\n",
    "            str += words_list[j][i] \n",
    "print(str)"
   ]
  },
  {
   "cell_type": "markdown",
   "metadata": {},
   "source": [
    "### 2563. 색종이"
   ]
  },
  {
   "cell_type": "markdown",
   "metadata": {},
   "source": [
    "접근이 어려웠다"
   ]
  },
  {
   "cell_type": "code",
   "execution_count": 20,
   "metadata": {},
   "outputs": [
    {
     "name": "stdout",
     "output_type": "stream",
     "text": [
      "3\n",
      "3 7\n",
      "15 7\n",
      "5 2\n",
      "260\n"
     ]
    }
   ],
   "source": [
    "paper = [[0]*101 for i in range(101)]\n",
    "n = int(input())\n",
    "area = 0\n",
    "for _ in range(n):\n",
    "    d = list(map(int, input().split()))\n",
    "    for i in range(d[0], d[0]+10):\n",
    "        for j in range(d[1], d[1]+10):\n",
    "            if paper[i][j] == 0:\n",
    "                paper[i][j] = 1\n",
    "                area += 1\n",
    "print(area)"
   ]
  },
  {
   "cell_type": "code",
   "execution_count": null,
   "metadata": {},
   "outputs": [],
   "source": [
    "n=int(input())\n",
    "ary=[[0 for _ in range(101)] for _ in range(101)]\n",
    "for _ in range(n):\n",
    "    x,y=map(int, input().split())\n",
    "    for i in range(x,x+10):\n",
    "        for j in range(y,y+10):\n",
    "            ary[i][j]=1\n",
    "ans=0\n",
    "for k in ary:\n",
    "    ans+=k.count(1)\n",
    "print(ans)"
   ]
  },
  {
   "cell_type": "markdown",
   "metadata": {},
   "source": [
    "이렇게 푸는게 나을 듯"
   ]
  }
 ],
 "metadata": {
  "kernelspec": {
   "display_name": "Python 3",
   "language": "python",
   "name": "python3"
  },
  "language_info": {
   "codemirror_mode": {
    "name": "ipython",
    "version": 3
   },
   "file_extension": ".py",
   "mimetype": "text/x-python",
   "name": "python",
   "nbconvert_exporter": "python",
   "pygments_lexer": "ipython3",
   "version": "3.8.5"
  }
 },
 "nbformat": 4,
 "nbformat_minor": 4
}
