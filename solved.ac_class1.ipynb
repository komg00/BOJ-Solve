{
 "cells": [
  {
   "cell_type": "markdown",
   "metadata": {},
   "source": [
    "### 2475. 검증수"
   ]
  },
  {
   "cell_type": "code",
   "execution_count": 2,
   "metadata": {},
   "outputs": [
    {
     "name": "stdout",
     "output_type": "stream",
     "text": [
      "0 4 2 5 6\n",
      "1\n"
     ]
    }
   ],
   "source": [
    "n = list(map(int, input().split()))\n",
    "sum = 0\n",
    "for i in n:\n",
    "    sum += i*i\n",
    "print(sum%10)"
   ]
  },
  {
   "cell_type": "markdown",
   "metadata": {},
   "source": [
    "### 2577. 숫자의 개수"
   ]
  },
  {
   "cell_type": "code",
   "execution_count": 18,
   "metadata": {},
   "outputs": [
    {
     "name": "stdout",
     "output_type": "stream",
     "text": [
      "150\n",
      "266\n",
      "427\n",
      "3\n",
      "1\n",
      "0\n",
      "2\n",
      "0\n",
      "0\n",
      "0\n",
      "2\n",
      "0\n",
      "0\n"
     ]
    }
   ],
   "source": [
    "import sys\n",
    "num = []\n",
    "data = []\n",
    "for _ in range(3):\n",
    "    data.append(int(input()))\n",
    "m = data[0]*data[1]*data[2]\n",
    "s = list(map(int, str(m)))\n",
    "for i in range(10):\n",
    "    num.append(s.count(i))\n",
    "    print(num[i])"
   ]
  },
  {
   "cell_type": "markdown",
   "metadata": {},
   "source": [
    "### 2741. N 찍기"
   ]
  },
  {
   "cell_type": "code",
   "execution_count": 21,
   "metadata": {},
   "outputs": [
    {
     "name": "stdout",
     "output_type": "stream",
     "text": [
      "5\n",
      "1\n",
      "2\n",
      "3\n",
      "4\n",
      "5\n"
     ]
    }
   ],
   "source": [
    "n = int(input())\n",
    "for i in range(1, n+1):\n",
    "    print(i)"
   ]
  },
  {
   "cell_type": "markdown",
   "metadata": {},
   "source": [
    "### 2920. 음계"
   ]
  },
  {
   "cell_type": "code",
   "execution_count": 33,
   "metadata": {},
   "outputs": [
    {
     "name": "stdout",
     "output_type": "stream",
     "text": [
      "8 1 7 2 6 3 5 4\n",
      "mixed\n"
     ]
    }
   ],
   "source": [
    "d = [1,2,3,4,5,6,7,8]\n",
    "n = list(map(int, input().split()))\n",
    "asc = sorted(n)\n",
    "desc = sorted(n, reverse=True)\n",
    "if n == asc:\n",
    "    print('ascending')\n",
    "elif n == desc:\n",
    "    print('descending')\n",
    "else:\n",
    "    print('mixed')"
   ]
  },
  {
   "cell_type": "markdown",
   "metadata": {},
   "source": [
    "### 8958. OX퀴즈"
   ]
  },
  {
   "cell_type": "code",
   "execution_count": 23,
   "metadata": {},
   "outputs": [
    {
     "name": "stdout",
     "output_type": "stream",
     "text": [
      "5\n",
      "OOXXOXXOOO\n",
      "10\n",
      "OOXXOOXXOO\n",
      "9\n",
      "OXOXOXOXOXOXOX\n",
      "7\n",
      "OOOOOOOOOO\n",
      "55\n",
      "OOOOXOOOOXOOOOX\n",
      "30\n"
     ]
    }
   ],
   "source": [
    "n = int(input())\n",
    "for _ in range(n):\n",
    "    s = input()\n",
    "    new_s = ''\n",
    "    cnt = 0\n",
    "    for i in range(len(s)):\n",
    "        new_s += s[i]\n",
    "        if s[i] == 'X':\n",
    "            new_s = new_s.replace('O','*')\n",
    "        else:\n",
    "            cnt += new_s.count('O')\n",
    "    print(cnt)"
   ]
  },
  {
   "cell_type": "markdown",
   "metadata": {},
   "source": [
    "다른 풀이"
   ]
  },
  {
   "cell_type": "code",
   "execution_count": null,
   "metadata": {},
   "outputs": [],
   "source": [
    "n = int(input())\n",
    "\n",
    "for i in range(n):\n",
    "    a = input()\n",
    "    score = 0\n",
    "    sumScore = 0\n",
    "    for j in a:\n",
    "        if j == 'O': # 'O'이 연속으로 있으면 점수가 1점씩 커진다\n",
    "            score += 1\n",
    "        else:\n",
    "            score = 0\n",
    "        sumScore += score\n",
    "    print(sumScore)"
   ]
  },
  {
   "cell_type": "markdown",
   "metadata": {},
   "source": [
    "### 10250. ACM 호텔"
   ]
  },
  {
   "cell_type": "markdown",
   "metadata": {},
   "source": [
    "만약 호텔의 층수가 4층이면 배정되는 순서는 101→201→301→202→103→401인 줄 알았는데 101→201→301→401→102→202 이런 식이었다...  문제 잘 읽자ㅠㅠ  \n",
    "++나머지 0인 경우 실수 주의"
   ]
  },
  {
   "cell_type": "code",
   "execution_count": 5,
   "metadata": {},
   "outputs": [
    {
     "name": "stdout",
     "output_type": "stream",
     "text": [
      "2\n",
      "6 12 6\n",
      "601\n",
      "6 12 12\n",
      "602\n"
     ]
    }
   ],
   "source": [
    "num = int(input())\n",
    "for _ in range(num):\n",
    "    h, w, n = map(int, input().split())\n",
    "    if n%h == 0:\n",
    "        print(str(h)+str(int(n/h)).zfill(2))\n",
    "    else:\n",
    "        print(str(n%h)+str(int(n/h)+1).zfill(2))"
   ]
  },
  {
   "cell_type": "markdown",
   "metadata": {},
   "source": [
    "다른 풀이"
   ]
  },
  {
   "cell_type": "code",
   "execution_count": null,
   "metadata": {},
   "outputs": [],
   "source": [
    "import sys\n",
    "vc = int(sys.stdin.readline())\n",
    "for i in range(vc):\n",
    "    vh, vw, vn = map(int, sys.stdin.readline().split())\n",
    "    if vn%vh == 0:\n",
    "        print(vh*100 + vn//vh)\n",
    "    else:\n",
    "        print(vn%vh*100 + vn//vh +1)"
   ]
  }
 ],
 "metadata": {
  "kernelspec": {
   "display_name": "Python 3",
   "language": "python",
   "name": "python3"
  },
  "language_info": {
   "codemirror_mode": {
    "name": "ipython",
    "version": 3
   },
   "file_extension": ".py",
   "mimetype": "text/x-python",
   "name": "python",
   "nbconvert_exporter": "python",
   "pygments_lexer": "ipython3",
   "version": "3.8.5"
  }
 },
 "nbformat": 4,
 "nbformat_minor": 4
}
