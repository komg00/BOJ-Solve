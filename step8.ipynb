{
 "cells": [
  {
   "cell_type": "markdown",
   "metadata": {},
   "source": [
    "## 일반 수학 1"
   ]
  },
  {
   "cell_type": "markdown",
   "metadata": {},
   "source": [
    "### 2745. 진법 변환"
   ]
  },
  {
   "cell_type": "code",
   "execution_count": 2,
   "metadata": {},
   "outputs": [
    {
     "name": "stdout",
     "output_type": "stream",
     "text": [
      "ZZZZZ 36\n",
      "60466175\n"
     ]
    }
   ],
   "source": [
    "x, n = input().split()\n",
    "print(int(x,int(n)))"
   ]
  },
  {
   "cell_type": "markdown",
   "metadata": {},
   "source": [
    "### 11005. 진법 변환 2"
   ]
  },
  {
   "cell_type": "code",
   "execution_count": 8,
   "metadata": {},
   "outputs": [
    {
     "name": "stdout",
     "output_type": "stream",
     "text": [
      "0123456789ABCDEFGHIJKLMNOPQRSTUVWXYZ\n"
     ]
    }
   ],
   "source": [
    "import string\n",
    "\n",
    "tmp = string.digits+string.ascii_uppercase\n",
    "print(tmp)"
   ]
  },
  {
   "cell_type": "code",
   "execution_count": 7,
   "metadata": {},
   "outputs": [
    {
     "name": "stdout",
     "output_type": "stream",
     "text": [
      "60466175 36\n",
      "ZZZZZ\n"
     ]
    }
   ],
   "source": [
    "import string\n",
    "\n",
    "tmp = string.digits+string.ascii_uppercase\n",
    "def convert(num, base):\n",
    "    q, r = divmod(num, base)\n",
    "    if q == 0:\n",
    "        return tmp[r]\n",
    "    else:\n",
    "        return convert(q, base) + tmp[r]\n",
    "x, n = map(int,input().split())\n",
    "print(convert(x, n))"
   ]
  },
  {
   "cell_type": "markdown",
   "metadata": {},
   "source": [
    "### 2720. 세탁소 사장 동혁"
   ]
  },
  {
   "cell_type": "code",
   "execution_count": 23,
   "metadata": {},
   "outputs": [
    {
     "name": "stdout",
     "output_type": "stream",
     "text": [
      "3\n",
      "124\n",
      "4 2 0 4 25\n",
      "1 0 0 0 194\n",
      "7 1 1 4 "
     ]
    }
   ],
   "source": [
    "n = int(input())\n",
    "for _ in range(n):\n",
    "    s = int(input())\n",
    "    charge = [0,0,0,0]\n",
    "    while s != 0:\n",
    "        q = s // 25 \n",
    "        d = s // 10\n",
    "        n = s // 5\n",
    "        p = s // 1\n",
    "        if q > 0:\n",
    "            charge[0] += q\n",
    "            s = s % 25\n",
    "        elif q == 0 and d > 0:\n",
    "            charge[1] += d\n",
    "            s = s % 10\n",
    "        elif q == 0 and d == 0 and n > 0:\n",
    "            charge[2] += n\n",
    "            s = s % 5\n",
    "        elif q == 0 and d == 0 and n == 0 and p > 0:\n",
    "            charge[3] += p\n",
    "            s = s % 1\n",
    "    for i in charge:\n",
    "        print(i, end = ' ')"
   ]
  },
  {
   "cell_type": "markdown",
   "metadata": {},
   "source": [
    "다른 풀이"
   ]
  },
  {
   "cell_type": "code",
   "execution_count": null,
   "metadata": {},
   "outputs": [],
   "source": [
    "n = int(input())\n",
    "\n",
    "for _ in range(n):\n",
    "    money = int(input())\n",
    "    for i in [25, 10, 5, 1]:\n",
    "        print(money//i, end=' ')\n",
    "        money = money%i"
   ]
  },
  {
   "cell_type": "markdown",
   "metadata": {},
   "source": [
    "### 2903. 중앙 이동 알고리즘"
   ]
  },
  {
   "cell_type": "code",
   "execution_count": 31,
   "metadata": {},
   "outputs": [
    {
     "name": "stdout",
     "output_type": "stream",
     "text": [
      "5\n",
      "1089\n"
     ]
    }
   ],
   "source": [
    "import math\n",
    "n = int(input())\n",
    "sq = 2\n",
    "for i in range(1, n+1):\n",
    "    sq += math.pow(2,i-1)\n",
    "print(int(sq*sq))"
   ]
  },
  {
   "cell_type": "markdown",
   "metadata": {},
   "source": [
    "다른 풀이"
   ]
  },
  {
   "cell_type": "code",
   "execution_count": null,
   "metadata": {},
   "outputs": [],
   "source": [
    "n = int(input())\n",
    "x = (2 ** n + 1) ** 2\n",
    "print(x)"
   ]
  },
  {
   "cell_type": "markdown",
   "metadata": {},
   "source": [
    "### 2292. 벌집"
   ]
  },
  {
   "cell_type": "code",
   "execution_count": 36,
   "metadata": {},
   "outputs": [
    {
     "name": "stdout",
     "output_type": "stream",
     "text": [
      "58\n",
      "5\n"
     ]
    }
   ],
   "source": [
    "n = int(input())\n",
    "cnt = 1\n",
    "i = 1\n",
    "while i < n:\n",
    "    i += 6*cnt\n",
    "    cnt += 1\n",
    "print(cnt)"
   ]
  },
  {
   "cell_type": "markdown",
   "metadata": {},
   "source": [
    "### 1193. 분수찾기"
   ]
  },
  {
   "cell_type": "code",
   "execution_count": 12,
   "metadata": {
    "scrolled": true
   },
   "outputs": [
    {
     "name": "stdout",
     "output_type": "stream",
     "text": [
      "7\n",
      "1/4\n"
     ]
    }
   ],
   "source": [
    "n = int(input())\n",
    "line = 0\n",
    "end = 0\n",
    "while n > end:\n",
    "    line += 1\n",
    "    end += line\n",
    "diff = end - n\n",
    "if line % 2 != 0:   # 홀수 라인\n",
    "    i = diff + 1    # 내림차순\n",
    "    j = line - diff # 오름차순\n",
    "else:               # 짝수 라인\n",
    "    i = line - diff # 오름차순\n",
    "    j = diff + 1    # 내림차순\n",
    "print(i,'/',j, sep='')"
   ]
  },
  {
   "cell_type": "markdown",
   "metadata": {},
   "source": [
    "처음에는 분모가 1이 되거나 분자가 1이 될 때 오름차/내림차 방향을 바꾸는 거로 접근했는데, 홀수라인/짝수라인을 구분해야 했다. 이때의 line은 대각선을 뜻하고 line의 마지막 인덱스는 end이다. 마지막 인덱스(end)의 값은 n이 end보다 클 때의 각 line들의 합이다. 홀수줄일 때는 분자(i)가 내림차순, 분모(j)가 오름차순이고 짝수줄일 때는 분자(i)가 오름차순, 분모(j)가 내림차순이다. end와 n의 차이를 diff라고 하면 내림차순일 때의 값은 diff+1이고 오름차순일 때의 값은 line-diff이다. "
   ]
  },
  {
   "cell_type": "markdown",
   "metadata": {},
   "source": [
    "### 2869. 달팽이는 올라가고 싶다"
   ]
  },
  {
   "cell_type": "markdown",
   "metadata": {},
   "source": [
    "아래는 런타임 에러가 났다"
   ]
  },
  {
   "cell_type": "code",
   "execution_count": 5,
   "metadata": {},
   "outputs": [
    {
     "name": "stdout",
     "output_type": "stream",
     "text": [
      "100 99 1000000000\n",
      "999999901\n"
     ]
    }
   ],
   "source": [
    "up, down, height = map(int, input().split())\n",
    "dis = 0\n",
    "day = 0\n",
    "while dis < height:\n",
    "    day += 1\n",
    "    dis += up\n",
    "    if dis >= height:\n",
    "        break\n",
    "    dis -= down\n",
    "print(day)"
   ]
  },
  {
   "cell_type": "code",
   "execution_count": 14,
   "metadata": {},
   "outputs": [
    {
     "name": "stdout",
     "output_type": "stream",
     "text": [
      "5 1 6\n",
      "2\n"
     ]
    }
   ],
   "source": [
    "a, b, height = map(int, input().split())\n",
    "x = (height - b) / (a - b)\n",
    "print(int(x)if x == int(x) else int(x)+1)"
   ]
  },
  {
   "cell_type": "markdown",
   "metadata": {},
   "source": [
    "도달하는 날을 x라고 했을 때 총 올라가는 횟수는 x번, 미끄러지는 횟수는 (x-1)번이다. 이를 바탕으로 식을 세우면 ax - b*(x-1) = height가 될 것이고, 이를 x에 대한 식으로 정리하면 x = (height-b)%(a-b)이다. x가 나누어떨어진다면 낮 동안에 정상까지 갔다는 뜻이기 때문에 그대로 x를 출력한다. x의 나머지가 0이 아니라면 낮 동안에 정상까지 가지 못해서 밤에 미끄러졌다는 뜻이므로 day에 1을 더한 값을 출력한다. "
   ]
  }
 ],
 "metadata": {
  "kernelspec": {
   "display_name": "Python 3",
   "language": "python",
   "name": "python3"
  },
  "language_info": {
   "codemirror_mode": {
    "name": "ipython",
    "version": 3
   },
   "file_extension": ".py",
   "mimetype": "text/x-python",
   "name": "python",
   "nbconvert_exporter": "python",
   "pygments_lexer": "ipython3",
   "version": "3.8.5"
  }
 },
 "nbformat": 4,
 "nbformat_minor": 4
}
