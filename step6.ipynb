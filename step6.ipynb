{
 "cells": [
  {
   "cell_type": "markdown",
   "metadata": {},
   "source": [
    "## 심화 1"
   ]
  },
  {
   "cell_type": "markdown",
   "metadata": {},
   "source": [
    "### 25083. 새싹"
   ]
  },
  {
   "cell_type": "code",
   "execution_count": 6,
   "metadata": {},
   "outputs": [
    {
     "name": "stdout",
     "output_type": "stream",
     "text": [
      "         ,r'\"7\n",
      "r`-_   ,'  ,/\n",
      " \\. \". L_r'\n",
      "   `~\\/\n",
      "      |\n",
      "      |\n"
     ]
    }
   ],
   "source": [
    "print(\"         ,r\\'\\\"7\")\n",
    "print(\"r`-_   ,'  ,/\")\n",
    "print(\" \\. \\\". L_r\\'\")\n",
    "print(\"   `~\\/\")\n",
    "print(\"      |\")\n",
    "print(\"      |\")"
   ]
  },
  {
   "cell_type": "markdown",
   "metadata": {},
   "source": [
    "### 3003. 킹, 퀸, 룩, 비숍, 나이트, 폰"
   ]
  },
  {
   "cell_type": "code",
   "execution_count": 61,
   "metadata": {},
   "outputs": [
    {
     "name": "stdout",
     "output_type": "stream",
     "text": [
      "2 1 2 1 2 1\n",
      "-1 0 0 1 0 7 "
     ]
    }
   ],
   "source": [
    "n = input().split()\n",
    "words = [1-int(n[0]), 1-int(n[1]), 2-int(n[2]), 2-int(n[3]), 2-int(n[4]), 8-int(n[5])]\n",
    "for i in words:\n",
    "    print(i, end = \" \")"
   ]
  },
  {
   "cell_type": "markdown",
   "metadata": {},
   "source": [
    "다른 풀이"
   ]
  },
  {
   "cell_type": "code",
   "execution_count": null,
   "metadata": {},
   "outputs": [],
   "source": [
    "a,b,c,d,e,f=map(int,input().split())\n",
    "print(1-a,1-b,2-c,2-d,2-e,8-f)"
   ]
  },
  {
   "cell_type": "markdown",
   "metadata": {},
   "source": [
    "### 2444. 별 찍기 - 7"
   ]
  },
  {
   "cell_type": "code",
   "execution_count": 13,
   "metadata": {},
   "outputs": [
    {
     "name": "stdout",
     "output_type": "stream",
     "text": [
      "6\n",
      "     *\n",
      "    ***\n",
      "   *****\n",
      "  *******\n",
      " *********\n",
      "***********\n",
      " *********\n",
      "  *******\n",
      "   *****\n",
      "    ***\n",
      "     *\n"
     ]
    }
   ],
   "source": [
    "n = int(input())\n",
    "for i in range(1, n+1):\n",
    "    print(\" \"*(n-i) + \"*\"*(2*i-1))\n",
    "for i in range(n-1, 0, -1):\n",
    "    print(\" \"*(n-i) + \"*\"*(2*i-1))"
   ]
  },
  {
   "cell_type": "markdown",
   "metadata": {},
   "source": [
    "### 10988. 펠린드롬인지 확인하기"
   ]
  },
  {
   "cell_type": "code",
   "execution_count": 35,
   "metadata": {},
   "outputs": [
    {
     "name": "stdout",
     "output_type": "stream",
     "text": [
      "level\n",
      "1\n"
     ]
    }
   ],
   "source": [
    "s = input()\n",
    "s_copy = s[::-1]\n",
    "if s == s_copy:\n",
    "    print(1)\n",
    "else:\n",
    "    print(0)"
   ]
  },
  {
   "cell_type": "markdown",
   "metadata": {},
   "source": [
    "### 1157. 단어 공부"
   ]
  },
  {
   "cell_type": "markdown",
   "metadata": {},
   "source": [
    "까다로운 문제였다"
   ]
  },
  {
   "cell_type": "code",
   "execution_count": null,
   "metadata": {},
   "outputs": [],
   "source": [
    "words = input().upper()\n",
    "unique_words = list(set(words))\n",
    "cnt_list = []\n",
    "for i in unique_words:\n",
    "    cnt = words.count(i)\n",
    "    cnt_list.append(cnt)\n",
    "if cnt_list.count(max(cnt_list)) > 1:\n",
    "    print('?')\n",
    "else:\n",
    "    max_index = cnt_list.index(max(cnt_list))\n",
    "    print(unique_words[max_index])"
   ]
  },
  {
   "cell_type": "code",
   "execution_count": null,
   "metadata": {},
   "outputs": [],
   "source": [
    "str = input().upper()\n",
    "max_num = 0\n",
    "for i in range(26):\n",
    "    cnt = str.count(chr(i + 65))\n",
    "    if max_num < cnt:\n",
    "        max_num = cnt\n",
    "        max_char = chr(i + 65)\n",
    "    elif max_num == cnt:\n",
    "        max_char = \"?\"\n",
    "print(max_char)"
   ]
  },
  {
   "cell_type": "markdown",
   "metadata": {},
   "source": [
    "### 2941. 크로아티아 알파벳"
   ]
  },
  {
   "cell_type": "markdown",
   "metadata": {},
   "source": [
    "확실히 실버 문제는 어렵다..."
   ]
  },
  {
   "cell_type": "code",
   "execution_count": 46,
   "metadata": {},
   "outputs": [
    {
     "name": "stdout",
     "output_type": "stream",
     "text": [
      "ddz=z=\n",
      "3\n"
     ]
    }
   ],
   "source": [
    "word = ['c=','c-','dz=','d-','lj','nj','s=','z=']\n",
    "s = input()\n",
    "for char in word:\n",
    "    s = s.replace(char, '*')\n",
    "print(len(s))"
   ]
  },
  {
   "cell_type": "markdown",
   "metadata": {},
   "source": [
    "### 1316. 그룹 단어 체커"
   ]
  },
  {
   "cell_type": "code",
   "execution_count": 70,
   "metadata": {},
   "outputs": [
    {
     "name": "stdout",
     "output_type": "stream",
     "text": [
      "9\n",
      "aaa\n",
      "aaazbz\n",
      "babb\n",
      "aazz\n",
      "azbz\n",
      "aabbaa\n",
      "abacc\n",
      "aba\n",
      "zzaz\n",
      "2\n"
     ]
    }
   ],
   "source": [
    "n = int(input())\n",
    "\n",
    "group_word = 0\n",
    "\n",
    "for _ in range(n):\n",
    "    word = input()\n",
    "    err = 0\n",
    "    new_word = ''\n",
    "    for i in range(len(word)-1):\n",
    "        if word[i] != word[i+1]:\n",
    "            new_word = word[i+1:]\n",
    "            if new_word.count(word[i]) > 0:\n",
    "                err += 1\n",
    "    if err == 0 or len(word) == 1:\n",
    "        group_word += 1\n",
    "print(group_word)"
   ]
  },
  {
   "cell_type": "markdown",
   "metadata": {},
   "source": [
    "다른 풀이 - sorted() 활용"
   ]
  },
  {
   "cell_type": "code",
   "execution_count": 4,
   "metadata": {},
   "outputs": [
    {
     "name": "stdout",
     "output_type": "stream",
     "text": [
      "5\n",
      "ab\n",
      "aa\n",
      "aca\n",
      "ba\n",
      "bb\n",
      "4\n"
     ]
    }
   ],
   "source": [
    "n = int(input())\n",
    "\n",
    "group_word = 0\n",
    "\n",
    "for i in range(n):\n",
    "    word = input()\n",
    "    if list(word) == sorted(word, key=word.find):\n",
    "        group_word += 1\n",
    "print(group_word)"
   ]
  },
  {
   "cell_type": "markdown",
   "metadata": {},
   "source": [
    "### 25206. 너의 평점은"
   ]
  },
  {
   "cell_type": "code",
   "execution_count": 11,
   "metadata": {},
   "outputs": [
    {
     "name": "stdout",
     "output_type": "stream",
     "text": [
      "ObjectOrientedProgramming1 3.0 A+\n",
      "13.5\n",
      "3.0\n",
      "IntroductiontoComputerEngineering 3.0 A+\n",
      "27.0\n",
      "6.0\n",
      "ObjectOrientedProgramming2 3.0 A0\n",
      "39.0\n",
      "9.0\n",
      "CreativeComputerEngineeringDesign 3.0 A+\n",
      "52.5\n",
      "12.0\n",
      "AssemblyLanguage 3.0 A+\n",
      "66.0\n",
      "15.0\n",
      "InternetProgramming 3.0 B0\n",
      "75.0\n",
      "18.0\n",
      "ApplicationProgramminginJava 3.0 A0\n",
      "87.0\n",
      "21.0\n",
      "SystemProgramming 3.0 B0\n",
      "96.0\n",
      "24.0\n",
      "OperatingSystem 3.0 B0\n",
      "105.0\n",
      "27.0\n",
      "WirelessCommunicationsandNetworking 3.0 C+\n",
      "112.5\n",
      "30.0\n",
      "LogicCircuits 3.0 B0\n",
      "121.5\n",
      "33.0\n",
      "DataStructure 4.0 A+\n",
      "139.5\n",
      "37.0\n",
      "MicroprocessorApplication 3.0 B+\n",
      "150.0\n",
      "40.0\n",
      "EmbeddedSoftware 3.0 C0\n",
      "156.0\n",
      "43.0\n",
      "ComputerSecurity 3.0 D+\n",
      "160.5\n",
      "46.0\n",
      "Database 3.0 C+\n",
      "168.0\n",
      "49.0\n",
      "Algorithm 3.0 B0\n",
      "177.0\n",
      "52.0\n",
      "CapstoneDesigninCSE 3.0 B+\n",
      "187.5\n",
      "55.0\n",
      "CompilerDesign 3.0 D0\n",
      "190.5\n",
      "58.0\n",
      "ProblemSolving 4.0 P\n",
      "190.5\n",
      "58.0\n",
      "3.2844827586206895\n"
     ]
    }
   ],
   "source": [
    "grade_sum = 0\n",
    "credit_count = 0\n",
    "grades = {'A+': 4.5, 'A0': 4.0, 'B+': 3.5, 'B0': 3.0, 'C+': 2.5, 'C0': 2.0, 'D+': 1.5, 'D0': 1.0, 'F': 0.0}\n",
    "for i in range(20):\n",
    "    sub, credit, grade = input().split()\n",
    "    for j in grades:\n",
    "        if j == grade:\n",
    "            score = grades.get(j)\n",
    "            grade_sum += score * float(credit)\n",
    "            credit_count += float(credit)\n",
    "print(grade_sum / credit_count)"
   ]
  },
  {
   "cell_type": "code",
   "execution_count": 12,
   "metadata": {},
   "outputs": [
    {
     "name": "stdout",
     "output_type": "stream",
     "text": [
      "BruteForce 3.0 F\n",
      "Greedy 1.0 F\n",
      "DivideandConquer 2.0 F\n",
      "DynamicProgramming 3.0 F\n",
      "DepthFirstSearch 4.0 F\n",
      "BreadthFirstSearch 3.0 F\n",
      "ShortestPath 4.0 F\n",
      "DisjointSet 2.0 F\n",
      "MinimumSpanningTree 2.0 F\n",
      "TopologicalSorting 1.0 F\n",
      "LeastCommonAncestor 2.0 F\n",
      "SegmentTree 4.0 F\n",
      "EulerTourTechnique 3.0 F\n",
      "StronglyConnectedComponent 2.0 F\n",
      "BipartiteMatching 2.0 F\n",
      "MaximumFlowProblem 3.0 F\n",
      "SuffixArray 1.0 F\n",
      "HeavyLightDecomposition 4.0 F\n",
      "CentroidDecomposition 3.0 F\n",
      "SplayTree 1.0 F\n",
      "0.0\n"
     ]
    }
   ],
   "source": [
    "grade_sum = 0\n",
    "credit_count = 0\n",
    "grades = {'A+': 4.5, 'A0': 4.0, 'B+': 3.5, 'B0': 3.0, 'C+': 2.5, 'C0': 2.0, 'D+': 1.5, 'D0': 1.0, 'F': 0.0}\n",
    "for i in range(20):\n",
    "    sub, credit, grade = input().split()\n",
    "    for j in grades:\n",
    "        if j == grade:\n",
    "            score = grades.get(j)\n",
    "            grade_sum += score * float(credit)\n",
    "            credit_count += float(credit)\n",
    "print(grade_sum / credit_count)"
   ]
  },
  {
   "cell_type": "markdown",
   "metadata": {},
   "source": [
    "set value 구할 때 이렇게 푸는 게 나을 듯"
   ]
  },
  {
   "cell_type": "code",
   "execution_count": null,
   "metadata": {},
   "outputs": [],
   "source": [
    "rate = 0\n",
    "scoreSum = 0\n",
    "\n",
    "rating = {\"A+\": 4.5, \"A0\": 4.0, \"B+\": 3.5, \"B0\": 3.0, \"C+\": 2.5, \"C0\": 2.0, \"D+\": 1.5, \"D0\": 1.0, \"F\": 0.0}\n",
    "\n",
    "for i in range(20):\n",
    "    subject, score, grade = input().split()\n",
    "    if grade == \"P\":\n",
    "        continue\n",
    "    rate += float(score) * rating[grade]\n",
    "    scoreSum += float(score)\n",
    "    \n",
    "print(rate/scoreSum)"
   ]
  }
 ],
 "metadata": {
  "kernelspec": {
   "display_name": "Python 3",
   "language": "python",
   "name": "python3"
  },
  "language_info": {
   "codemirror_mode": {
    "name": "ipython",
    "version": 3
   },
   "file_extension": ".py",
   "mimetype": "text/x-python",
   "name": "python",
   "nbconvert_exporter": "python",
   "pygments_lexer": "ipython3",
   "version": "3.8.5"
  }
 },
 "nbformat": 4,
 "nbformat_minor": 4
}
