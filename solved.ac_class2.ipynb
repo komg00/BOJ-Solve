{
 "cells": [
  {
   "cell_type": "markdown",
   "metadata": {},
   "source": [
    "### 1018. 체스판 다시 칠하기"
   ]
  },
  {
   "cell_type": "markdown",
   "metadata": {},
   "source": [
    "검정색/흰색 각각을 왼쪽 상단의 색으로 설정할 때의 경우의 수를 센다.  \n",
    "행과 열의 합이 짝수일 때는 왼쪽 상단의 색, 좌표의 합이 홀수일 때는 다른 색으로 색칠한다.  \n",
    "검정색 시작일 때 수정 횟수와 흰색 시작일 때 수정 횟수 중 최소값을 paint 횟수로 저장한다.  \n",
    "주어진 크기에서 8X8 크기의 체스판을 잘라내는 모든 경우의 수를 체크한 후, paint_list 중 제일 작은 수를 출력한다."
   ]
  },
  {
   "cell_type": "code",
   "execution_count": 8,
   "metadata": {
    "scrolled": true
   },
   "outputs": [
    {
     "name": "stdout",
     "output_type": "stream",
     "text": [
      "9 23\n",
      "BBBBBBBBBBBBBBBBBBBBBBB\n",
      "BBBBBBBBBBBBBBBBBBBBBBB\n",
      "BBBBBBBBBBBBBBBBBBBBBBB\n",
      "BBBBBBBBBBBBBBBBBBBBBBB\n",
      "BBBBBBBBBBBBBBBBBBBBBBB\n",
      "BBBBBBBBBBBBBBBBBBBBBBB\n",
      "BBBBBBBBBBBBBBBBBBBBBBB\n",
      "BBBBBBBBBBBBBBBBBBBBBBB\n",
      "BBBBBBBBBBBBBBBBBBBBBBW\n",
      "31\n"
     ]
    }
   ],
   "source": [
    "n, m = map(int, input().split())\n",
    "ary = []\n",
    "color = 'B','W'\n",
    "for _ in range(n):\n",
    "    ary.append(input())\n",
    "paint_list = []\n",
    "for a in range(n-7):\n",
    "    for b in range(m-7):\n",
    "        paint_w = 0\n",
    "        paint_b = 0\n",
    "        for i in range(a, a+8):\n",
    "            for j in range(b, b+8):\n",
    "                #검은색 시작일 때 틀린 경우\n",
    "                if ary[i][j] != color[(i+j)%2]:\n",
    "                    paint_b += 1\n",
    "                #흰색 시작일 때 틀린 경우\n",
    "                else:\n",
    "                    paint_w += 1\n",
    "        paint = min(paint_b, paint_w)\n",
    "        paint_list.append(paint)\n",
    "\n",
    "print(min(paint_list))"
   ]
  },
  {
   "cell_type": "markdown",
   "metadata": {},
   "source": [
    "다른 풀이(솔직히 이해가 안 된다)"
   ]
  },
  {
   "cell_type": "code",
   "execution_count": null,
   "metadata": {},
   "outputs": [],
   "source": [
    "n,m=map(int,input().split())\n",
    "\n",
    "mtr=[]\n",
    "cnt=[]\n",
    "for i in range(n):\n",
    "    mtr.append(input())\n",
    "    \n",
    "for a in range(n-7):\n",
    "    for b in range(m-7):#8*8로 자르기 위해, -7해준다\n",
    "        w_index=0 #흰색으로 시작\n",
    "        b_index=0 #검은색으로 시작\n",
    "        for i in range(a,a+8):#시작지점\n",
    "            for j in range(b,b+8):#시작지점\n",
    "                if (i+j)%2==0:#짝수인 경우\n",
    "                    if mtr[i][j]!='W':#W가 아니면, 즉 B이면\n",
    "                        w_index+=1#W로 칠하는 갯수\n",
    "                    else:#W일 때\n",
    "                        b_index+=1#B로 칠하는 갯수\n",
    "                else:#홀수인 경우\n",
    "                    if mtr[i][j]!='W':#W가 아니면, 즉 B이면\n",
    "                        b_index+=1#B로 칠하는 갯수\n",
    "                    else:\n",
    "                        w_index+=1#W로 칠하는 갯수\n",
    "                        \n",
    "        cnt.append(w_index) #W로 시작할 때 경우의 수\n",
    "        cnt.append(b_index) #B로 시작할 때 경우의 수\n",
    "print(min(cnt))"
   ]
  },
  {
   "cell_type": "markdown",
   "metadata": {},
   "source": [
    "### 1181. 단어 정렬"
   ]
  },
  {
   "cell_type": "code",
   "execution_count": 5,
   "metadata": {},
   "outputs": [
    {
     "name": "stdout",
     "output_type": "stream",
     "text": [
      "13\n",
      "but\n",
      "i\n",
      "wont\n",
      "hesitate\n",
      "no\n",
      "more\n",
      "no\n",
      "more\n",
      "it\n",
      "cannot\n",
      "wait\n",
      "im\n",
      "yours\n",
      "i\n",
      "im\n",
      "it\n",
      "no\n",
      "but\n",
      "more\n",
      "wait\n",
      "wont\n",
      "yours\n",
      "cannot\n",
      "hesitate\n"
     ]
    }
   ],
   "source": [
    "n = int(input())\n",
    "words = []\n",
    "sort_words = []\n",
    "for _ in range(n):\n",
    "    words.append(input())\n",
    "words = set(words)\n",
    "for i in words:\n",
    "    sort_words.append(i)\n",
    "sort_words.sort()\n",
    "new = sorted(sort_words, key=len)\n",
    "for i in new:\n",
    "    print(i)"
   ]
  },
  {
   "cell_type": "markdown",
   "metadata": {},
   "source": [
    "다른 풀이: input()은 느리니까 readline() 쓰는 것이 낫다"
   ]
  },
  {
   "cell_type": "code",
   "execution_count": null,
   "metadata": {},
   "outputs": [],
   "source": [
    "import sys\n",
    "  \n",
    "N = int(input())\n",
    "words = {sys.stdin.readline().rstrip() for i in range(N)}\n",
    "words = list(words)\n",
    "print('\\n'.join(sorted(sorted(words), key = len)))"
   ]
  },
  {
   "cell_type": "markdown",
   "metadata": {},
   "source": [
    "### 1259. 펠린드롬수"
   ]
  },
  {
   "cell_type": "code",
   "execution_count": 31,
   "metadata": {
    "scrolled": true
   },
   "outputs": [
    {
     "name": "stdout",
     "output_type": "stream",
     "text": [
      "121\n",
      "yes\n",
      "1231\n",
      "no\n",
      "12421\n",
      "yes\n",
      "0\n"
     ]
    }
   ],
   "source": [
    "while True:\n",
    "    word = list(input())\n",
    "    if word[0] == '0':\n",
    "        break\n",
    "    err = 0\n",
    "    n = len(word)\n",
    "    for i in range(n):\n",
    "        if word[n-i-1] != word[i]:\n",
    "            err += 1\n",
    "    if err == 0:\n",
    "        print('yes')\n",
    "    else:\n",
    "        print('no')"
   ]
  },
  {
   "cell_type": "markdown",
   "metadata": {},
   "source": [
    "다른 풀이 - 리스트 슬라이싱 이용"
   ]
  },
  {
   "cell_type": "code",
   "execution_count": null,
   "metadata": {},
   "outputs": [],
   "source": [
    "import sys\n",
    "while True:\n",
    "    n = input()\n",
    "    if n =='0':\n",
    "        break\n",
    "    if n == n[::-1]:\n",
    "        print('yes')\n",
    "    else:\n",
    "        print('no')"
   ]
  },
  {
   "cell_type": "markdown",
   "metadata": {},
   "source": [
    "### 1436. 영화감독 숌 "
   ]
  },
  {
   "cell_type": "markdown",
   "metadata": {},
   "source": [
    "문제 이해하는 거는 오래 걸렸는데 완전탐색을 이용하니 생각보다 쉽게 풀렸다->그렇지만 시간이 오래 걸림"
   ]
  },
  {
   "cell_type": "code",
   "execution_count": 12,
   "metadata": {},
   "outputs": [
    {
     "name": "stdout",
     "output_type": "stream",
     "text": [
      "500\n",
      "166699\n"
     ]
    }
   ],
   "source": [
    "n = int(input())\n",
    "cnt = 0\n",
    "i = 0\n",
    "while cnt < n:\n",
    "    i+=1\n",
    "    if '666' in str(i):\n",
    "        cnt += 1\n",
    "    if cnt == n:\n",
    "        res = i\n",
    "print(res)"
   ]
  },
  {
   "cell_type": "markdown",
   "metadata": {},
   "source": [
    "### 1654. 랜선 자르기"
   ]
  },
  {
   "cell_type": "markdown",
   "metadata": {},
   "source": [
    "처음 풀이는 시간 초과 발생했다"
   ]
  },
  {
   "cell_type": "code",
   "execution_count": 46,
   "metadata": {
    "scrolled": true
   },
   "outputs": [
    {
     "name": "stdout",
     "output_type": "stream",
     "text": [
      "4 11\n",
      "802\n",
      "743\n",
      "457\n",
      "539\n",
      "200\n"
     ]
    }
   ],
   "source": [
    "k, n = map(int, input().split())\n",
    "lan_list=[]\n",
    "for _ in range(k):\n",
    "    lan_list.append(int(input()))\n",
    "lan_ = sum(lan_list) // n\n",
    "while True:\n",
    "    particle = 0\n",
    "    lan_ -= 1\n",
    "    for i in lan_list:\n",
    "        particle += i // lan_\n",
    "    if(particle >= n):\n",
    "        print(lan_)\n",
    "        break"
   ]
  },
  {
   "cell_type": "markdown",
   "metadata": {},
   "source": [
    "이분 탐색 이용하기"
   ]
  },
  {
   "cell_type": "code",
   "execution_count": null,
   "metadata": {},
   "outputs": [],
   "source": [
    "import sys\n",
    "k, n = map(int, input().split())\n",
    "lan = [int(sys.stdin.readline().rstrip()) for _ in range(k)]\n",
    "start = 1\n",
    "end = max(lan)\n",
    "\n",
    "while start <= end:\n",
    "    mid = (start + end) // 2\n",
    "    lines = 0\n",
    "    for i in lan:\n",
    "        lines += i // mid\n",
    "    if lines >= n:\n",
    "        start = mid+1\n",
    "    else:\n",
    "        end = mid-1\n",
    "print(end)"
   ]
  },
  {
   "cell_type": "markdown",
   "metadata": {},
   "source": [
    "1) 가장 짧은 길이 1을 start로, 랜선 중 가장 긴 길이를 end로 둔다.  \n",
    "2) 이분탐색이 끝날 때까지 while 문을 돌린다.  \n",
    "3) mid를 start와 end의 중간으로 두고, 주어진 랜선 값을 모두 mid로 나누어 총 몇 개의 랜선을 생성할 수 있는지 살펴본다.  \n",
    "4-1) 랜선이 목표치 이상이면 mid+1을 start로 두고 다시 while문을 반복한다.  \n",
    "4-2) 랜선이 목표치 이하면 mid-1을 end로 두고 다시 while문을 반복한다.  \n",
    "5) start와 end가 같아지면: 조건을 만족하는 최대의 랜선 길이를 찾으면 탈출한다.  \n",
    "6) 결과값인 end를 출력한다."
   ]
  },
  {
   "cell_type": "code",
   "execution_count": null,
   "metadata": {},
   "outputs": [],
   "source": []
  }
 ],
 "metadata": {
  "kernelspec": {
   "display_name": "Python 3",
   "language": "python",
   "name": "python3"
  },
  "language_info": {
   "codemirror_mode": {
    "name": "ipython",
    "version": 3
   },
   "file_extension": ".py",
   "mimetype": "text/x-python",
   "name": "python",
   "nbconvert_exporter": "python",
   "pygments_lexer": "ipython3",
   "version": "3.8.5"
  }
 },
 "nbformat": 4,
 "nbformat_minor": 4
}
