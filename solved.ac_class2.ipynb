{
 "cells": [
  {
   "cell_type": "markdown",
   "metadata": {},
   "source": [
    "### 1018. 체스판 다시 칠하기"
   ]
  },
  {
   "cell_type": "markdown",
   "metadata": {},
   "source": [
    "검정색/흰색 각각을 왼쪽 상단의 색으로 설정할 때의 경우의 수를 센다.  \n",
    "행과 열의 합이 짝수일 때는 왼쪽 상단의 색, 좌표의 합이 홀수일 때는 다른 색으로 색칠한다.  \n",
    "검정색 시작일 때 수정 횟수와 흰색 시작일 때 수정 횟수 중 최소값을 paint 횟수로 저장한다.  \n",
    "주어진 크기에서 8X8 크기의 체스판을 잘라내는 모든 경우의 수를 체크한 후, paint_list 중 제일 작은 수를 출력한다."
   ]
  },
  {
   "cell_type": "code",
   "execution_count": 8,
   "metadata": {
    "scrolled": true
   },
   "outputs": [
    {
     "name": "stdout",
     "output_type": "stream",
     "text": [
      "9 23\n",
      "BBBBBBBBBBBBBBBBBBBBBBB\n",
      "BBBBBBBBBBBBBBBBBBBBBBB\n",
      "BBBBBBBBBBBBBBBBBBBBBBB\n",
      "BBBBBBBBBBBBBBBBBBBBBBB\n",
      "BBBBBBBBBBBBBBBBBBBBBBB\n",
      "BBBBBBBBBBBBBBBBBBBBBBB\n",
      "BBBBBBBBBBBBBBBBBBBBBBB\n",
      "BBBBBBBBBBBBBBBBBBBBBBB\n",
      "BBBBBBBBBBBBBBBBBBBBBBW\n",
      "31\n"
     ]
    }
   ],
   "source": [
    "n, m = map(int, input().split())\n",
    "ary = []\n",
    "color = 'B','W'\n",
    "for _ in range(n):\n",
    "    ary.append(input())\n",
    "paint_list = []\n",
    "for a in range(n-7):\n",
    "    for b in range(m-7):\n",
    "        paint_w = 0\n",
    "        paint_b = 0\n",
    "        for i in range(a, a+8):\n",
    "            for j in range(b, b+8):\n",
    "                #검은색 시작일 때 틀린 경우\n",
    "                if ary[i][j] != color[(i+j)%2]:\n",
    "                    paint_b += 1\n",
    "                #흰색 시작일 때 틀린 경우\n",
    "                else:\n",
    "                    paint_w += 1\n",
    "        paint = min(paint_b, paint_w)\n",
    "        paint_list.append(paint)\n",
    "\n",
    "print(min(paint_list))"
   ]
  },
  {
   "cell_type": "markdown",
   "metadata": {},
   "source": [
    "다른 풀이(솔직히 이해가 안 된다)"
   ]
  },
  {
   "cell_type": "code",
   "execution_count": null,
   "metadata": {},
   "outputs": [],
   "source": [
    "n,m=map(int,input().split())\n",
    "\n",
    "mtr=[]\n",
    "cnt=[]\n",
    "for i in range(n):\n",
    "    mtr.append(input())\n",
    "    \n",
    "for a in range(n-7):\n",
    "    for b in range(m-7):#8*8로 자르기 위해, -7해준다\n",
    "        w_index=0 #흰색으로 시작\n",
    "        b_index=0 #검은색으로 시작\n",
    "        for i in range(a,a+8):#시작지점\n",
    "            for j in range(b,b+8):#시작지점\n",
    "                if (i+j)%2==0:#짝수인 경우\n",
    "                    if mtr[i][j]!='W':#W가 아니면, 즉 B이면\n",
    "                        w_index+=1#W로 칠하는 갯수\n",
    "                    else:#W일 때\n",
    "                        b_index+=1#B로 칠하는 갯수\n",
    "                else:#홀수인 경우\n",
    "                    if mtr[i][j]!='W':#W가 아니면, 즉 B이면\n",
    "                        b_index+=1#B로 칠하는 갯수\n",
    "                    else:\n",
    "                        w_index+=1#W로 칠하는 갯수\n",
    "                        \n",
    "        cnt.append(w_index) #W로 시작할 때 경우의 수\n",
    "        cnt.append(b_index) #B로 시작할 때 경우의 수\n",
    "print(min(cnt))"
   ]
  },
  {
   "cell_type": "markdown",
   "metadata": {},
   "source": [
    "### 1181. 단어 정렬"
   ]
  },
  {
   "cell_type": "code",
   "execution_count": 5,
   "metadata": {},
   "outputs": [
    {
     "name": "stdout",
     "output_type": "stream",
     "text": [
      "13\n",
      "but\n",
      "i\n",
      "wont\n",
      "hesitate\n",
      "no\n",
      "more\n",
      "no\n",
      "more\n",
      "it\n",
      "cannot\n",
      "wait\n",
      "im\n",
      "yours\n",
      "i\n",
      "im\n",
      "it\n",
      "no\n",
      "but\n",
      "more\n",
      "wait\n",
      "wont\n",
      "yours\n",
      "cannot\n",
      "hesitate\n"
     ]
    }
   ],
   "source": [
    "n = int(input())\n",
    "words = []\n",
    "sort_words = []\n",
    "for _ in range(n):\n",
    "    words.append(input())\n",
    "words = set(words)\n",
    "for i in words:\n",
    "    sort_words.append(i)\n",
    "sort_words.sort()\n",
    "new = sorted(sort_words, key=len)\n",
    "for i in new:\n",
    "    print(i)"
   ]
  },
  {
   "cell_type": "markdown",
   "metadata": {},
   "source": [
    "다른 풀이  \n",
    "input()은 느리니까 readline()쓰기를 권장"
   ]
  },
  {
   "cell_type": "code",
   "execution_count": null,
   "metadata": {},
   "outputs": [],
   "source": [
    "import sys\n",
    "  \n",
    "N = int(input())\n",
    "words = {sys.stdin.readline().rstrip() for i in range(N)}\n",
    "words = list(words)\n",
    "print('\\n'.join(sorted(sorted(words), key = len)))"
   ]
  }
 ],
 "metadata": {
  "kernelspec": {
   "display_name": "Python 3",
   "language": "python",
   "name": "python3"
  },
  "language_info": {
   "codemirror_mode": {
    "name": "ipython",
    "version": 3
   },
   "file_extension": ".py",
   "mimetype": "text/x-python",
   "name": "python",
   "nbconvert_exporter": "python",
   "pygments_lexer": "ipython3",
   "version": "3.8.5"
  }
 },
 "nbformat": 4,
 "nbformat_minor": 4
}
